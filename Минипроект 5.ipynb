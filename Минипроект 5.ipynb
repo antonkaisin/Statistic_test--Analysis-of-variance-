{
 "cells": [
  {
   "cell_type": "markdown",
   "id": "da1bff53",
   "metadata": {},
   "source": [
    "На этот раз ситуация следующая: вы работаете в приложении по доставке готовых продуктов. К вам пришел коллега с результатами двух тестов:\n",
    "\n",
    "* В первом тестировали разрешение фотографий блюд в приложении: пользователям показывались либо прямоугольные, либо новые квадратные \n",
    "* Во втором: была обновлена кнопка заказа, и часть юзеров видела старый вариант, а часть – новый\n",
    "\n",
    "Коллега пришел к вам с просьбой: он посмотрел на графики и предположил, что среди групп могут встретиться различия. Ваша задача – помочь ему проверить гипотезы, сделать соответствующие выводы на основе статистических тестов и принять решения.\n",
    "\n",
    "## Задания:\n",
    "1. Выберите метод, который предположительно подойдет в первом вопросе.\n",
    "2. Проверьте, являются ли дисперсии внутри групп гомогенными.\n",
    "3. Проведите тест на нормальность распределения.\n",
    "4. Сравните средние в представленных группах.\n",
    "5. Используйте критерий Тьюки и определите, между какими группами есть статистически значимые различия. \n",
    "6. Примите решение: какие картинки в итоге будем использовать?\n",
    "7. Выберите метод для второго теста.\n",
    "8. Визуализируйте распределение events для контрольной и тестовой групп. \n",
    "9. Посмотрите на описательные статистики events в разбивке по группе и по сегменту пользователя. \n",
    "10. Выберите формулу для модели, проведите тест.\n",
    "\n",
    "## Описание данных\n",
    "`5_task_1:`\n",
    "\n",
    "* id – id клиента в эксперименте\n",
    "* group – в каком разрешении показывались картинки (A – прямоугольные 16:9, B – квадратные, C – прямоугольные 12:4)\n",
    "* events – сколько блюд суммарно было заказано за период\n",
    "\n",
    "`5_task_2:`\n",
    "\n",
    "* id – id клиента в эксперименте\n",
    "* segment – сегмент (high/low)\n",
    "* group – вид кнопки (control – старая версия, test – новая версия)\n",
    "* events – сколько блюд суммарно было заказано за период\n",
    "\n",
    "# Задание 1\n",
    "\n",
    "Итак, первая задача: нужно проверить, какой формат фотографий блюд является наилучшим, т.е. в какой из групп в среднем покупали больше всего. Всего пользователям показывались три варианта:\n",
    "\n",
    "A – прямоугольные 16:9\n",
    "\n",
    "B – квадратные\n",
    "\n",
    "C – прямоугольные 12:4\n",
    "\n",
    "Каким статистическим тестом нужно воспользоваться для сравнения средних в данном случае?\n",
    "\n",
    "* t-test\n",
    "* сделаю вывод исключительно по графику\n",
    "* **ANOVA**\n",
    "* посчитаю хи-квадрат\n",
    "\n",
    "# Задание 2\n",
    "\n",
    "Проверьте, являются ли дисперсии внутри групп примерно одинаковыми (гомогенными) с помощью теста Левена.\n",
    "\n",
    "Hint: scipy.stats.levene либо pingouin.homoscedasticity"
   ]
  },
  {
   "cell_type": "code",
   "execution_count": 77,
   "id": "1b23f14a",
   "metadata": {},
   "outputs": [],
   "source": [
    "import pandas as pd\n",
    "import numpy as np\n",
    "import matplotlib.pyplot as plt\n",
    "import seaborn as sns\n",
    "import scipy\n",
    "from scipy import stats\n",
    "import statsmodels.api as sm\n",
    "import statsmodels.formula.api as smf\n",
    "\n",
    "import warnings\n",
    "warnings.filterwarnings(\"ignore\")"
   ]
  },
  {
   "cell_type": "code",
   "execution_count": 2,
   "id": "717ba394",
   "metadata": {},
   "outputs": [
    {
     "data": {
      "text/html": [
       "<div>\n",
       "<style scoped>\n",
       "    .dataframe tbody tr th:only-of-type {\n",
       "        vertical-align: middle;\n",
       "    }\n",
       "\n",
       "    .dataframe tbody tr th {\n",
       "        vertical-align: top;\n",
       "    }\n",
       "\n",
       "    .dataframe thead th {\n",
       "        text-align: right;\n",
       "    }\n",
       "</style>\n",
       "<table border=\"1\" class=\"dataframe\">\n",
       "  <thead>\n",
       "    <tr style=\"text-align: right;\">\n",
       "      <th></th>\n",
       "      <th>id</th>\n",
       "      <th>group</th>\n",
       "      <th>events</th>\n",
       "    </tr>\n",
       "  </thead>\n",
       "  <tbody>\n",
       "    <tr>\n",
       "      <th>0</th>\n",
       "      <td>16046</td>\n",
       "      <td>A</td>\n",
       "      <td>14</td>\n",
       "    </tr>\n",
       "    <tr>\n",
       "      <th>1</th>\n",
       "      <td>18712</td>\n",
       "      <td>A</td>\n",
       "      <td>41</td>\n",
       "    </tr>\n",
       "    <tr>\n",
       "      <th>2</th>\n",
       "      <td>3268</td>\n",
       "      <td>A</td>\n",
       "      <td>30</td>\n",
       "    </tr>\n",
       "    <tr>\n",
       "      <th>3</th>\n",
       "      <td>22633</td>\n",
       "      <td>A</td>\n",
       "      <td>37</td>\n",
       "    </tr>\n",
       "    <tr>\n",
       "      <th>4</th>\n",
       "      <td>28071</td>\n",
       "      <td>A</td>\n",
       "      <td>38</td>\n",
       "    </tr>\n",
       "  </tbody>\n",
       "</table>\n",
       "</div>"
      ],
      "text/plain": [
       "      id group  events\n",
       "0  16046     A      14\n",
       "1  18712     A      41\n",
       "2   3268     A      30\n",
       "3  22633     A      37\n",
       "4  28071     A      38"
      ]
     },
     "execution_count": 2,
     "metadata": {},
     "output_type": "execute_result"
    }
   ],
   "source": [
    "task_1 = pd.read_csv('C:/Users/Александр/pj/karpov_courses/Statistics/Miniprojects/Datasets/5_task_1.csv')\n",
    "task_1.head()"
   ]
  },
  {
   "cell_type": "code",
   "execution_count": 3,
   "id": "c385a123",
   "metadata": {},
   "outputs": [
    {
     "data": {
      "text/html": [
       "<div>\n",
       "<style scoped>\n",
       "    .dataframe tbody tr th:only-of-type {\n",
       "        vertical-align: middle;\n",
       "    }\n",
       "\n",
       "    .dataframe tbody tr th {\n",
       "        vertical-align: top;\n",
       "    }\n",
       "\n",
       "    .dataframe thead th {\n",
       "        text-align: right;\n",
       "    }\n",
       "</style>\n",
       "<table border=\"1\" class=\"dataframe\">\n",
       "  <thead>\n",
       "    <tr style=\"text-align: right;\">\n",
       "      <th></th>\n",
       "      <th>id</th>\n",
       "      <th>group</th>\n",
       "      <th>segment</th>\n",
       "      <th>events</th>\n",
       "    </tr>\n",
       "  </thead>\n",
       "  <tbody>\n",
       "    <tr>\n",
       "      <th>0</th>\n",
       "      <td>83440</td>\n",
       "      <td>test</td>\n",
       "      <td>high</td>\n",
       "      <td>78.0</td>\n",
       "    </tr>\n",
       "    <tr>\n",
       "      <th>1</th>\n",
       "      <td>96723</td>\n",
       "      <td>test</td>\n",
       "      <td>high</td>\n",
       "      <td>71.0</td>\n",
       "    </tr>\n",
       "    <tr>\n",
       "      <th>2</th>\n",
       "      <td>68719</td>\n",
       "      <td>test</td>\n",
       "      <td>high</td>\n",
       "      <td>80.0</td>\n",
       "    </tr>\n",
       "    <tr>\n",
       "      <th>3</th>\n",
       "      <td>50399</td>\n",
       "      <td>test</td>\n",
       "      <td>high</td>\n",
       "      <td>80.0</td>\n",
       "    </tr>\n",
       "    <tr>\n",
       "      <th>4</th>\n",
       "      <td>95613</td>\n",
       "      <td>test</td>\n",
       "      <td>high</td>\n",
       "      <td>78.0</td>\n",
       "    </tr>\n",
       "  </tbody>\n",
       "</table>\n",
       "</div>"
      ],
      "text/plain": [
       "      id group segment  events\n",
       "0  83440  test    high    78.0\n",
       "1  96723  test    high    71.0\n",
       "2  68719  test    high    80.0\n",
       "3  50399  test    high    80.0\n",
       "4  95613  test    high    78.0"
      ]
     },
     "execution_count": 3,
     "metadata": {},
     "output_type": "execute_result"
    }
   ],
   "source": [
    "task_2 = pd.read_csv('C:/Users/Александр/pj/karpov_courses/Statistics/Miniprojects/Datasets/5_task_2.csv')\n",
    "task_2.head()"
   ]
  },
  {
   "cell_type": "code",
   "execution_count": 4,
   "id": "4bae46ec",
   "metadata": {},
   "outputs": [
    {
     "data": {
      "text/plain": [
       "LeveneResult(statistic=2.2622596339318037, pvalue=0.1041327199523974)"
      ]
     },
     "execution_count": 4,
     "metadata": {},
     "output_type": "execute_result"
    }
   ],
   "source": [
    "scipy.stats.levene(task_1.query(\"group == 'A'\").events, \n",
    "                   task_1.query(\"group == 'B'\").events, \n",
    "                   task_1.query(\"group == 'C'\").events)"
   ]
  },
  {
   "cell_type": "markdown",
   "id": "09fe3fdb",
   "metadata": {},
   "source": [
    "* **p-value > 0.05, не отклоняем нулевую гипотезу**\n",
    "* p-value < 0.05, отклоняем нулевую гипотезу\n",
    "* p-value < 0.05, не отклоняем нулевую гипотезу\n",
    "* p-value > 0.05, отклоняем нулевую гипотезу"
   ]
  },
  {
   "cell_type": "markdown",
   "id": "527c6523",
   "metadata": {},
   "source": [
    "# Задание 3\n",
    "Также убедитесь, что данные распределены нормально, применив тест Шапиро-Уилка. Перед применением критерия при проверке на нормальность обязательно сделайте семплирование (1000 наблюдений), так как на больших выборках могут получаться неверные результаты. Для воспроизводимости результата используйте параметр random_state=17 в методе sample.\n",
    "\n",
    "Дополнительно: попробуйте посчитать тест Шапиро-Уилка без использования метода sample. Сравните  результат с normaltest, а также qq-графиками. Какой вывод можно сделать по совокупности этих методов?\n",
    "\n",
    "Выберите верные утверждения:"
   ]
  },
  {
   "cell_type": "code",
   "execution_count": 5,
   "id": "2681b56e",
   "metadata": {},
   "outputs": [
    {
     "data": {
      "text/plain": [
       "ShapiroResult(statistic=0.9973153471946716, pvalue=0.09609563648700714)"
      ]
     },
     "execution_count": 5,
     "metadata": {},
     "output_type": "execute_result"
    }
   ],
   "source": [
    "scipy.stats.shapiro(task_1[task_1['group'] == 'A']['events'].sample(1000, random_state=17))"
   ]
  },
  {
   "cell_type": "code",
   "execution_count": 6,
   "id": "4013bdc1",
   "metadata": {},
   "outputs": [
    {
     "data": {
      "image/png": "[encoded data removed]",
      "text/plain": [
       "<Figure size 432x288 with 1 Axes>"
      ]
     },
     "metadata": {
      "needs_background": "light"
     },
     "output_type": "display_data"
    }
   ],
   "source": [
    "fig = plt.figure()\n",
    "ax = fig.add_subplot(111)\n",
    "x = task_1[task_1['group'] == 'A']['events'].sample(1000, random_state=17)\n",
    "ax.set_title(\"QQplot группа А\")\n",
    "res = stats.probplot(x, dist=stats.loggamma, sparams=(2.5,), plot=ax)"
   ]
  },
  {
   "cell_type": "code",
   "execution_count": 7,
   "id": "0526b8db",
   "metadata": {},
   "outputs": [
    {
     "data": {
      "text/plain": [
       "ShapiroResult(statistic=0.9980798363685608, pvalue=0.31768906116485596)"
      ]
     },
     "execution_count": 7,
     "metadata": {},
     "output_type": "execute_result"
    }
   ],
   "source": [
    "scipy.stats.shapiro(task_1[task_1['group'] == 'B']['events'].sample(1000, random_state=17))"
   ]
  },
  {
   "cell_type": "code",
   "execution_count": 8,
   "id": "759519b9",
   "metadata": {},
   "outputs": [
    {
     "data": {
      "image/png": "[encoded data removed]",
      "text/plain": [
       "<Figure size 432x288 with 1 Axes>"
      ]
     },
     "metadata": {
      "needs_background": "light"
     },
     "output_type": "display_data"
    }
   ],
   "source": [
    "fig = plt.figure()\n",
    "ax = fig.add_subplot(111)\n",
    "x = task_1[task_1['group'] == 'B']['events'].sample(1000, random_state=17)\n",
    "ax.set_title(\"QQplot группа B\")\n",
    "res = stats.probplot(x, dist=stats.loggamma, sparams=(2.5,), plot=ax)"
   ]
  },
  {
   "cell_type": "code",
   "execution_count": 9,
   "id": "616f3dff",
   "metadata": {},
   "outputs": [
    {
     "data": {
      "text/plain": [
       "ShapiroResult(statistic=0.9981185793876648, pvalue=0.3359004259109497)"
      ]
     },
     "execution_count": 9,
     "metadata": {},
     "output_type": "execute_result"
    }
   ],
   "source": [
    "scipy.stats.shapiro(task_1[task_1['group'] == 'C']['events'].sample(1000, random_state=17))"
   ]
  },
  {
   "cell_type": "code",
   "execution_count": 10,
   "id": "3eafcda3",
   "metadata": {},
   "outputs": [
    {
     "data": {
      "image/png": "[encoded data removed]",
      "text/plain": [
       "<Figure size 432x288 with 1 Axes>"
      ]
     },
     "metadata": {
      "needs_background": "light"
     },
     "output_type": "display_data"
    }
   ],
   "source": [
    "fig = plt.figure()\n",
    "ax = fig.add_subplot(111)\n",
    "x = task_1[task_1['group'] == 'C']['events'].sample(1000, random_state=17)\n",
    "ax.set_title(\"QQplot группа C\")\n",
    "res = stats.probplot(x, dist=stats.loggamma, sparams=(2.5,), plot=ax)"
   ]
  },
  {
   "cell_type": "code",
   "execution_count": 11,
   "id": "7ba45b48",
   "metadata": {},
   "outputs": [
    {
     "data": {
      "text/plain": [
       "ShapiroResult(statistic=0.9989418387413025, pvalue=4.318870651331963e-06)"
      ]
     },
     "execution_count": 11,
     "metadata": {},
     "output_type": "execute_result"
    }
   ],
   "source": [
    "scipy.stats.shapiro(task_1[task_1['group'] == 'A']['events'])"
   ]
  },
  {
   "cell_type": "code",
   "execution_count": 12,
   "id": "ce81b3ce",
   "metadata": {},
   "outputs": [
    {
     "data": {
      "image/png": "[encoded data removed]",
      "text/plain": [
       "<Figure size 432x288 with 1 Axes>"
      ]
     },
     "metadata": {
      "needs_background": "light"
     },
     "output_type": "display_data"
    }
   ],
   "source": [
    "fig = plt.figure()\n",
    "ax = fig.add_subplot(111)\n",
    "x = task_1[task_1['group'] == 'A']['events']\n",
    "ax.set_title(\"QQplot группа А\")\n",
    "res = stats.probplot(x, dist=stats.loggamma, sparams=(2.5,), plot=ax)"
   ]
  },
  {
   "cell_type": "code",
   "execution_count": 13,
   "id": "a6e6750a",
   "metadata": {},
   "outputs": [
    {
     "data": {
      "text/plain": [
       "ShapiroResult(statistic=0.9990161061286926, pvalue=1.0504894817131571e-05)"
      ]
     },
     "execution_count": 13,
     "metadata": {},
     "output_type": "execute_result"
    }
   ],
   "source": [
    "scipy.stats.shapiro(task_1[task_1['group'] == 'B']['events'])"
   ]
  },
  {
   "cell_type": "code",
   "execution_count": 14,
   "id": "f5c335c4",
   "metadata": {},
   "outputs": [
    {
     "data": {
      "image/png": "[encoded data removed]",
      "text/plain": [
       "<Figure size 432x288 with 1 Axes>"
      ]
     },
     "metadata": {
      "needs_background": "light"
     },
     "output_type": "display_data"
    }
   ],
   "source": [
    "fig = plt.figure()\n",
    "ax = fig.add_subplot(111)\n",
    "x = task_1[task_1['group'] == 'B']['events']\n",
    "ax.set_title(\"QQplot группа B\")\n",
    "res = stats.probplot(x, dist=stats.loggamma, sparams=(2.5,), plot=ax)"
   ]
  },
  {
   "cell_type": "code",
   "execution_count": 15,
   "id": "36c8cd95",
   "metadata": {},
   "outputs": [
    {
     "data": {
      "text/plain": [
       "ShapiroResult(statistic=0.9989210963249207, pvalue=3.3885160064528463e-06)"
      ]
     },
     "execution_count": 15,
     "metadata": {},
     "output_type": "execute_result"
    }
   ],
   "source": [
    "scipy.stats.shapiro(task_1[task_1['group'] == 'C']['events'])"
   ]
  },
  {
   "cell_type": "code",
   "execution_count": 16,
   "id": "c28e900d",
   "metadata": {},
   "outputs": [
    {
     "data": {
      "image/png": "[encoded data removed]",
      "text/plain": [
       "<Figure size 432x288 with 1 Axes>"
      ]
     },
     "metadata": {
      "needs_background": "light"
     },
     "output_type": "display_data"
    }
   ],
   "source": [
    "fig = plt.figure()\n",
    "ax = fig.add_subplot(111)\n",
    "x = task_1[task_1['group'] == 'C']['events']\n",
    "ax.set_title(\"QQplot группа C\")\n",
    "res = stats.probplot(x, dist=stats.loggamma, sparams=(2.5,), plot=ax)"
   ]
  },
  {
   "cell_type": "markdown",
   "id": "13cc5c34",
   "metadata": {},
   "source": [
    "Тест Шапиро-Уилка без семплирования дает значения p-value 4.32, 3.39, 1.05\n",
    "\n",
    "* **Распределение events в группе B является нормальным**\n",
    "* **Распределение events в группе A является нормальным**\n",
    "* **Распределение events в группе С является нормальным**\n",
    "* Все утверждения не верны\n",
    "\n",
    "\n",
    "# Задание 4\n",
    "Самое время провести тест! "
   ]
  },
  {
   "cell_type": "code",
   "execution_count": 17,
   "id": "68dfd484",
   "metadata": {},
   "outputs": [
    {
     "data": {
      "text/plain": [
       "F_onewayResult(statistic=2886.166657438961, pvalue=0.0)"
      ]
     },
     "execution_count": 17,
     "metadata": {},
     "output_type": "execute_result"
    }
   ],
   "source": [
    "scipy.stats.f_oneway(task_1.query(\"group == 'A'\").events, \n",
    "                     task_1.query(\"group == 'B'\").events, \n",
    "                     task_1.query(\"group == 'C'\").events)"
   ]
  },
  {
   "cell_type": "markdown",
   "id": "e7042fe6",
   "metadata": {},
   "source": [
    "Для сравнения средних я использую `ОДНОФАКТОРНЫЙ ДИСПЕРСИОННЫЙ АНАЛИЗ`. Значение статистики равно (окр. до целого) `2886`, а р-уровень значимости составил `0`.\n",
    "\n",
    "# Задание 5\n",
    "Теперь используйте критерий Тьюки и определите, между какими группами есть статистически значимые различия. \n",
    "\n",
    "Дополнительно: попробуйте другие варианты поправок на множественные сравнения через pingouin. Дают ли они те же выводы, что и Тьюки?"
   ]
  },
  {
   "cell_type": "code",
   "execution_count": 92,
   "id": "e7e5cadb",
   "metadata": {},
   "outputs": [
    {
     "data": {
      "text/html": [
       "<table class=\"simpletable\">\n",
       "<caption>Multiple Comparison of Means - Tukey HSD, FWER=0.05</caption>\n",
       "<tr>\n",
       "  <th>group1</th> <th>group2</th> <th>meandiff</th> <th>p-adj</th>   <th>lower</th>   <th>upper</th>  <th>reject</th>\n",
       "</tr>\n",
       "<tr>\n",
       "     <td>A</td>      <td>B</td>     <td>8.034</td>  <td>-0.0</td>   <td>7.7038</td>  <td>8.3642</td>   <td>True</td> \n",
       "</tr>\n",
       "<tr>\n",
       "     <td>A</td>      <td>C</td>    <td>-2.1093</td> <td>-0.0</td>   <td>-2.4395</td> <td>-1.7791</td>  <td>True</td> \n",
       "</tr>\n",
       "<tr>\n",
       "     <td>B</td>      <td>C</td>   <td>-10.1433</td> <td>-0.0</td>  <td>-10.4735</td> <td>-9.8131</td>  <td>True</td> \n",
       "</tr>\n",
       "</table>"
      ],
      "text/plain": [
       "<class 'statsmodels.iolib.table.SimpleTable'>"
      ]
     },
     "execution_count": 92,
     "metadata": {},
     "output_type": "execute_result"
    }
   ],
   "source": [
    "sm.stats.multicomp.pairwise_tukeyhsd(task_1.events, task_1.group).summary()"
   ]
  },
  {
   "cell_type": "markdown",
   "id": "fe02f7d5",
   "metadata": {},
   "source": [
    "* Нет значимых\n",
    "* **A и C**\n",
    "* **B и C**\n",
    "* **A и B**\n",
    "\n",
    "\n",
    "# Задание 6\n",
    "Так какие картинки в итоге будем использовать?\n"
   ]
  },
  {
   "cell_type": "code",
   "execution_count": 25,
   "id": "5e04d071",
   "metadata": {},
   "outputs": [
    {
     "data": {
      "text/html": [
       "<div>\n",
       "<style scoped>\n",
       "    .dataframe tbody tr th:only-of-type {\n",
       "        vertical-align: middle;\n",
       "    }\n",
       "\n",
       "    .dataframe tbody tr th {\n",
       "        vertical-align: top;\n",
       "    }\n",
       "\n",
       "    .dataframe thead th {\n",
       "        text-align: right;\n",
       "    }\n",
       "</style>\n",
       "<table border=\"1\" class=\"dataframe\">\n",
       "  <thead>\n",
       "    <tr style=\"text-align: right;\">\n",
       "      <th></th>\n",
       "      <th>events</th>\n",
       "    </tr>\n",
       "    <tr>\n",
       "      <th>group</th>\n",
       "      <th></th>\n",
       "    </tr>\n",
       "  </thead>\n",
       "  <tbody>\n",
       "    <tr>\n",
       "      <th>A</th>\n",
       "      <td>295796</td>\n",
       "    </tr>\n",
       "    <tr>\n",
       "      <th>B</th>\n",
       "      <td>376136</td>\n",
       "    </tr>\n",
       "    <tr>\n",
       "      <th>C</th>\n",
       "      <td>274703</td>\n",
       "    </tr>\n",
       "  </tbody>\n",
       "</table>\n",
       "</div>"
      ],
      "text/plain": [
       "       events\n",
       "group        \n",
       "A      295796\n",
       "B      376136\n",
       "C      274703"
      ]
     },
     "execution_count": 25,
     "metadata": {},
     "output_type": "execute_result"
    }
   ],
   "source": [
    "task_1.groupby('group').agg({'events' : 'sum'})"
   ]
  },
  {
   "cell_type": "markdown",
   "id": "87a74b94",
   "metadata": {},
   "source": [
    "* **B – Квадратные**\n",
    "* A – Прямоугольные, 16:9\n",
    "* C – Прямоугольные, 12:4\n",
    "\n",
    "# Задание 7\n",
    "Во втором эксперименте требуется проверить, как пользователи отреагируют на изменение формата кнопки оформления заказа, с разбивкой по сегменту клиента.\n",
    "\n",
    "Какой метод скорее всего пригодится в данном случае?\n",
    "\n",
    "* хи-квадрат\n",
    "* t-test\n",
    "* **многофакторный дисперсионный анализ**\n",
    "* однофакторный дисперсионный анализ\n",
    "\n",
    "# Задание 8\n",
    "Посмотрим на данные. Для начала визуализируйте распределение events для контрольной и тестовой групп. Соотнесите графики распределения и экспериментальные группы:\n",
    "\n",
    "`A)`\n",
    "![](https://ucarecdn.com/08b06a66-16b4-4d31-a773-59b3fdfdedfa/)\n",
    "\n",
    "`Б)`\n",
    "![](https://ucarecdn.com/e7a6ac56-fcda-40ec-9af1-4333c7881b3c/)\n",
    "\n",
    "A - `Контрольная группа`\n",
    "\n",
    "B - `Тестовая группа`"
   ]
  },
  {
   "cell_type": "code",
   "execution_count": 27,
   "id": "c5547fa7",
   "metadata": {},
   "outputs": [
    {
     "data": {
      "text/html": [
       "<div>\n",
       "<style scoped>\n",
       "    .dataframe tbody tr th:only-of-type {\n",
       "        vertical-align: middle;\n",
       "    }\n",
       "\n",
       "    .dataframe tbody tr th {\n",
       "        vertical-align: top;\n",
       "    }\n",
       "\n",
       "    .dataframe thead th {\n",
       "        text-align: right;\n",
       "    }\n",
       "</style>\n",
       "<table border=\"1\" class=\"dataframe\">\n",
       "  <thead>\n",
       "    <tr style=\"text-align: right;\">\n",
       "      <th></th>\n",
       "      <th>id</th>\n",
       "      <th>group</th>\n",
       "      <th>segment</th>\n",
       "      <th>events</th>\n",
       "    </tr>\n",
       "  </thead>\n",
       "  <tbody>\n",
       "    <tr>\n",
       "      <th>0</th>\n",
       "      <td>83440</td>\n",
       "      <td>test</td>\n",
       "      <td>high</td>\n",
       "      <td>78.0</td>\n",
       "    </tr>\n",
       "    <tr>\n",
       "      <th>1</th>\n",
       "      <td>96723</td>\n",
       "      <td>test</td>\n",
       "      <td>high</td>\n",
       "      <td>71.0</td>\n",
       "    </tr>\n",
       "    <tr>\n",
       "      <th>2</th>\n",
       "      <td>68719</td>\n",
       "      <td>test</td>\n",
       "      <td>high</td>\n",
       "      <td>80.0</td>\n",
       "    </tr>\n",
       "    <tr>\n",
       "      <th>3</th>\n",
       "      <td>50399</td>\n",
       "      <td>test</td>\n",
       "      <td>high</td>\n",
       "      <td>80.0</td>\n",
       "    </tr>\n",
       "    <tr>\n",
       "      <th>4</th>\n",
       "      <td>95613</td>\n",
       "      <td>test</td>\n",
       "      <td>high</td>\n",
       "      <td>78.0</td>\n",
       "    </tr>\n",
       "  </tbody>\n",
       "</table>\n",
       "</div>"
      ],
      "text/plain": [
       "      id group segment  events\n",
       "0  83440  test    high    78.0\n",
       "1  96723  test    high    71.0\n",
       "2  68719  test    high    80.0\n",
       "3  50399  test    high    80.0\n",
       "4  95613  test    high    78.0"
      ]
     },
     "execution_count": 27,
     "metadata": {},
     "output_type": "execute_result"
    }
   ],
   "source": [
    "task_2.head()"
   ]
  },
  {
   "cell_type": "code",
   "execution_count": 29,
   "id": "47380f0f",
   "metadata": {},
   "outputs": [
    {
     "data": {
      "text/plain": [
       "LeveneResult(statistic=2.5440050816535327, pvalue=0.11071679229795423)"
      ]
     },
     "execution_count": 29,
     "metadata": {},
     "output_type": "execute_result"
    }
   ],
   "source": [
    "scipy.stats.levene(task_2.query(\"group == 'test'\").events, \n",
    "                   task_2.query(\"group == 'control'\").events)"
   ]
  },
  {
   "cell_type": "code",
   "execution_count": 38,
   "id": "f4765e7c",
   "metadata": {},
   "outputs": [
    {
     "data": {
      "image/png": "[encoded data removed]",
      "text/plain": [
       "<Figure size 864x576 with 1 Axes>"
      ]
     },
     "metadata": {},
     "output_type": "display_data"
    }
   ],
   "source": [
    "sns.set_style(\"whitegrid\")\n",
    "sns.set(rc={'figure.figsize':(12,8)})\n",
    "sns.distplot(task_2.query(\"group == 'test'\").events)\n",
    "sns.despine()"
   ]
  },
  {
   "cell_type": "code",
   "execution_count": 39,
   "id": "ad7be2d8",
   "metadata": {},
   "outputs": [
    {
     "data": {
      "image/png": "[encoded data removed]",
      "text/plain": [
       "<Figure size 864x576 with 1 Axes>"
      ]
     },
     "metadata": {},
     "output_type": "display_data"
    }
   ],
   "source": [
    "sns.distplot(task_2.query(\"group == 'control'\").events)\n",
    "sns.despine()"
   ]
  },
  {
   "cell_type": "markdown",
   "id": "a5513031",
   "metadata": {},
   "source": [
    "# Задание 9\n",
    "Посчитайте среднее, медиану и стандартное отклонение events в разбивке по группе и по сегменту пользователя. \n",
    "\n",
    "В качестве ответа укажите стандартное отклонение для пользователей из сегмента high и контрольной группы, с точностью до 2 знаков после точки."
   ]
  },
  {
   "cell_type": "code",
   "execution_count": 45,
   "id": "6c6f8f33",
   "metadata": {},
   "outputs": [
    {
     "data": {
      "text/html": [
       "<div>\n",
       "<style scoped>\n",
       "    .dataframe tbody tr th:only-of-type {\n",
       "        vertical-align: middle;\n",
       "    }\n",
       "\n",
       "    .dataframe tbody tr th {\n",
       "        vertical-align: top;\n",
       "    }\n",
       "\n",
       "    .dataframe thead th {\n",
       "        text-align: right;\n",
       "    }\n",
       "</style>\n",
       "<table border=\"1\" class=\"dataframe\">\n",
       "  <thead>\n",
       "    <tr style=\"text-align: right;\">\n",
       "      <th></th>\n",
       "      <th>group</th>\n",
       "      <th>segment</th>\n",
       "      <th>events</th>\n",
       "    </tr>\n",
       "  </thead>\n",
       "  <tbody>\n",
       "    <tr>\n",
       "      <th>0</th>\n",
       "      <td>control</td>\n",
       "      <td>high</td>\n",
       "      <td>599708.0</td>\n",
       "    </tr>\n",
       "    <tr>\n",
       "      <th>1</th>\n",
       "      <td>control</td>\n",
       "      <td>low</td>\n",
       "      <td>801263.0</td>\n",
       "    </tr>\n",
       "    <tr>\n",
       "      <th>2</th>\n",
       "      <td>test</td>\n",
       "      <td>high</td>\n",
       "      <td>699385.0</td>\n",
       "    </tr>\n",
       "    <tr>\n",
       "      <th>3</th>\n",
       "      <td>test</td>\n",
       "      <td>low</td>\n",
       "      <td>1321037.0</td>\n",
       "    </tr>\n",
       "  </tbody>\n",
       "</table>\n",
       "</div>"
      ],
      "text/plain": [
       "     group segment     events\n",
       "0  control    high   599708.0\n",
       "1  control     low   801263.0\n",
       "2     test    high   699385.0\n",
       "3     test     low  1321037.0"
      ]
     },
     "execution_count": 45,
     "metadata": {},
     "output_type": "execute_result"
    }
   ],
   "source": [
    "task_2.groupby(['group', 'segment'], as_index=False).agg({'events' : 'sum'})"
   ]
  },
  {
   "cell_type": "code",
   "execution_count": 63,
   "id": "30cc88c5",
   "metadata": {},
   "outputs": [
    {
     "name": "stdout",
     "output_type": "stream",
     "text": [
      "Стандартное отклонение контрольной группы в сегменте high =  7.81\n",
      "Среднее контрольной группы в сегменте high =  59.97\n",
      "Медиана контрольной группы в сегменте high =  60.0\n"
     ]
    }
   ],
   "source": [
    "std_ch = np.round(task_2.query(\"group == 'control' & segment == 'high'\").events.std(), 2)\n",
    "mean_ch = np.round(task_2.query(\"group == 'control' & segment == 'high'\").events.mean(), 2)\n",
    "median_ch = np.round(task_2.query(\"group == 'control' & segment == 'high'\").events.median(), 2)\n",
    "print('Стандартное отклонение контрольной группы в сегменте high = ', std_ch)\n",
    "print('Среднее контрольной группы в сегменте high = ', mean_ch)\n",
    "print('Медиана контрольной группы в сегменте high = ', median_ch)"
   ]
  },
  {
   "cell_type": "code",
   "execution_count": 64,
   "id": "428091ef",
   "metadata": {},
   "outputs": [
    {
     "name": "stdout",
     "output_type": "stream",
     "text": [
      "Стандартное отклонение контрольной группы в сегменте low =  4.47\n",
      "Среднее контрольной группы в сегменте low =  20.03\n",
      "Медиана контрольной группы в сегменте low =  20.0\n"
     ]
    }
   ],
   "source": [
    "std_cl = np.round(task_2.query(\"group == 'control' & segment == 'low'\").events.std(), 2)\n",
    "mean_cl = np.round(task_2.query(\"group == 'control' & segment == 'low'\").events.mean(), 2)\n",
    "median_cl = np.round(task_2.query(\"group == 'control' & segment == 'low'\").events.median(), 2)\n",
    "print('Стандартное отклонение контрольной группы в сегменте low = ', std_cl)\n",
    "print('Среднее контрольной группы в сегменте low = ', mean_cl)\n",
    "print('Медиана контрольной группы в сегменте low = ', median_cl)"
   ]
  },
  {
   "cell_type": "code",
   "execution_count": 65,
   "id": "5ce4d073",
   "metadata": {},
   "outputs": [
    {
     "name": "stdout",
     "output_type": "stream",
     "text": [
      "Стандартное отклонение тестовой группы в сегменте high =  8.4\n",
      "Среднее тестовой группы в сегменте high =  69.94\n",
      "Медиана тестовой группы в сегменте high =  70.0\n"
     ]
    }
   ],
   "source": [
    "std_th = np.round(task_2.query(\"group == 'test' & segment == 'high'\").events.std(), 2)\n",
    "mean_th = np.round(task_2.query(\"group == 'test' & segment == 'high'\").events.mean(), 2)\n",
    "median_th = np.round(task_2.query(\"group == 'test' & segment == 'high'\").events.median(), 2)\n",
    "print('Стандартное отклонение тестовой группы в сегменте high = ', std_th)\n",
    "print('Среднее тестовой группы в сегменте high = ', mean_th)\n",
    "print('Медиана тестовой группы в сегменте high = ', median_th)"
   ]
  },
  {
   "cell_type": "code",
   "execution_count": 66,
   "id": "8af431b0",
   "metadata": {},
   "outputs": [
    {
     "name": "stdout",
     "output_type": "stream",
     "text": [
      "Стандартное отклонение тестовой группы в сегменте low =  5.72\n",
      "Среднее тестовой группы в сегменте low =  33.03\n",
      "Медиана тестовой группы в сегменте low =  33.0\n"
     ]
    }
   ],
   "source": [
    "std_tl = np.round(task_2.query(\"group == 'test' & segment == 'low'\").events.std(), 2)\n",
    "mean_tl = np.round(task_2.query(\"group == 'test' & segment == 'low'\").events.mean(), 2)\n",
    "median_tl = np.round(task_2.query(\"group == 'test' & segment == 'low'\").events.median(), 2)\n",
    "print('Стандартное отклонение тестовой группы в сегменте low = ', std_tl)\n",
    "print('Среднее тестовой группы в сегменте low = ', mean_tl)\n",
    "print('Медиана тестовой группы в сегменте low = ', median_tl)"
   ]
  },
  {
   "cell_type": "markdown",
   "id": "661ee7e9",
   "metadata": {},
   "source": [
    "Ответ: `7.81`\n",
    "\n",
    "\n",
    "# Задание 10\n",
    "\n",
    "Почти у цели – осталось выбрать формулу для модели. Напомним, что мы хотим проверить эффект нескольких переменных – group и segment – на events, с взаимодействием факторов.\n",
    "\n",
    "Если вы прибегнете к statsmodels, то какую формулу используете?\n",
    "\n",
    "* **events ~ segment + group + segment:group**\n",
    "* events ~ segment, group\n",
    "* events = segment + group + segment:group\n",
    "* events = segment + group\n",
    "* events ~ segment + group\n",
    "\n",
    "\n",
    "# Задание 11\n",
    "Проведите тест (через `anova_lm` либо `pg.anova`), а затем используйте критерий Тьюки, чтобы понять между какими группами есть статистически значимые различия.\n",
    "\n",
    "В данном случае для последующих сравнений между группами можно проделать следующую операцию: соединить колонки group и segment в combination, чтобы потом передать в аргумент groups в `MultiComparison` либо `pairwise_tukey`:\n",
    "\n",
    "\n",
    "| group | segment | combination |\n",
    "|-------|---------|-------------|\n",
    "| test  | high    | test / high |\n",
    "| test  | high    | test / high |\n",
    "\n",
    "Между какими группами были обнаружены статистически значимые различия? Выберите верные утверждения:\n",
    "\n",
    "Note:  При интерпретации обратите внимание на то, какая из групп с какой сравнивается и как считается meandiff."
   ]
  },
  {
   "cell_type": "code",
   "execution_count": 73,
   "id": "a353a1f1",
   "metadata": {},
   "outputs": [
    {
     "data": {
      "text/html": [
       "<div>\n",
       "<style scoped>\n",
       "    .dataframe tbody tr th:only-of-type {\n",
       "        vertical-align: middle;\n",
       "    }\n",
       "\n",
       "    .dataframe tbody tr th {\n",
       "        vertical-align: top;\n",
       "    }\n",
       "\n",
       "    .dataframe thead th {\n",
       "        text-align: right;\n",
       "    }\n",
       "</style>\n",
       "<table border=\"1\" class=\"dataframe\">\n",
       "  <thead>\n",
       "    <tr style=\"text-align: right;\">\n",
       "      <th></th>\n",
       "      <th>id</th>\n",
       "      <th>group</th>\n",
       "      <th>segment</th>\n",
       "      <th>events</th>\n",
       "      <th>combination</th>\n",
       "    </tr>\n",
       "  </thead>\n",
       "  <tbody>\n",
       "    <tr>\n",
       "      <th>0</th>\n",
       "      <td>83440</td>\n",
       "      <td>test</td>\n",
       "      <td>high</td>\n",
       "      <td>78.0</td>\n",
       "      <td>test \\ high</td>\n",
       "    </tr>\n",
       "    <tr>\n",
       "      <th>1</th>\n",
       "      <td>96723</td>\n",
       "      <td>test</td>\n",
       "      <td>high</td>\n",
       "      <td>71.0</td>\n",
       "      <td>test \\ high</td>\n",
       "    </tr>\n",
       "    <tr>\n",
       "      <th>2</th>\n",
       "      <td>68719</td>\n",
       "      <td>test</td>\n",
       "      <td>high</td>\n",
       "      <td>80.0</td>\n",
       "      <td>test \\ high</td>\n",
       "    </tr>\n",
       "    <tr>\n",
       "      <th>3</th>\n",
       "      <td>50399</td>\n",
       "      <td>test</td>\n",
       "      <td>high</td>\n",
       "      <td>80.0</td>\n",
       "      <td>test \\ high</td>\n",
       "    </tr>\n",
       "    <tr>\n",
       "      <th>4</th>\n",
       "      <td>95613</td>\n",
       "      <td>test</td>\n",
       "      <td>high</td>\n",
       "      <td>78.0</td>\n",
       "      <td>test \\ high</td>\n",
       "    </tr>\n",
       "  </tbody>\n",
       "</table>\n",
       "</div>"
      ],
      "text/plain": [
       "      id group segment  events  combination\n",
       "0  83440  test    high    78.0  test \\ high\n",
       "1  96723  test    high    71.0  test \\ high\n",
       "2  68719  test    high    80.0  test \\ high\n",
       "3  50399  test    high    80.0  test \\ high\n",
       "4  95613  test    high    78.0  test \\ high"
      ]
     },
     "execution_count": 73,
     "metadata": {},
     "output_type": "execute_result"
    }
   ],
   "source": [
    "task_2['combination'] = task_2['group'] + ' \\ ' + task_2['segment']\n",
    "task_2.head()"
   ]
  },
  {
   "cell_type": "code",
   "execution_count": 83,
   "id": "a8e63528",
   "metadata": {},
   "outputs": [],
   "source": [
    "res = smf.ols(formula = 'events ~ segment + group + segment:group', data=task_2).fit()"
   ]
  },
  {
   "cell_type": "code",
   "execution_count": 87,
   "id": "daf44992",
   "metadata": {},
   "outputs": [
    {
     "data": {
      "text/html": [
       "<div>\n",
       "<style scoped>\n",
       "    .dataframe tbody tr th:only-of-type {\n",
       "        vertical-align: middle;\n",
       "    }\n",
       "\n",
       "    .dataframe tbody tr th {\n",
       "        vertical-align: top;\n",
       "    }\n",
       "\n",
       "    .dataframe thead th {\n",
       "        text-align: right;\n",
       "    }\n",
       "</style>\n",
       "<table border=\"1\" class=\"dataframe\">\n",
       "  <thead>\n",
       "    <tr style=\"text-align: right;\">\n",
       "      <th></th>\n",
       "      <th>sum_sq</th>\n",
       "      <th>df</th>\n",
       "      <th>F</th>\n",
       "      <th>PR(&gt;F)</th>\n",
       "    </tr>\n",
       "  </thead>\n",
       "  <tbody>\n",
       "    <tr>\n",
       "      <th>segment</th>\n",
       "      <td>2.362480e+07</td>\n",
       "      <td>1.0</td>\n",
       "      <td>689756.377484</td>\n",
       "      <td>0.000000e+00</td>\n",
       "    </tr>\n",
       "    <tr>\n",
       "      <th>group</th>\n",
       "      <td>3.837195e+06</td>\n",
       "      <td>1.0</td>\n",
       "      <td>112031.864119</td>\n",
       "      <td>0.000000e+00</td>\n",
       "    </tr>\n",
       "    <tr>\n",
       "      <th>segment:group</th>\n",
       "      <td>3.664244e+04</td>\n",
       "      <td>1.0</td>\n",
       "      <td>1069.823273</td>\n",
       "      <td>2.060261e-233</td>\n",
       "    </tr>\n",
       "    <tr>\n",
       "      <th>Residual</th>\n",
       "      <td>3.424956e+06</td>\n",
       "      <td>99996.0</td>\n",
       "      <td>NaN</td>\n",
       "      <td>NaN</td>\n",
       "    </tr>\n",
       "  </tbody>\n",
       "</table>\n",
       "</div>"
      ],
      "text/plain": [
       "                     sum_sq       df              F         PR(>F)\n",
       "segment        2.362480e+07      1.0  689756.377484   0.000000e+00\n",
       "group          3.837195e+06      1.0  112031.864119   0.000000e+00\n",
       "segment:group  3.664244e+04      1.0    1069.823273  2.060261e-233\n",
       "Residual       3.424956e+06  99996.0            NaN            NaN"
      ]
     },
     "execution_count": 87,
     "metadata": {},
     "output_type": "execute_result"
    }
   ],
   "source": [
    "sm.stats.anova_lm(res, typ=2)"
   ]
  },
  {
   "cell_type": "code",
   "execution_count": 89,
   "id": "216fae24",
   "metadata": {},
   "outputs": [
    {
     "data": {
      "text/html": [
       "<table class=\"simpletable\">\n",
       "<caption>Multiple Comparison of Means - Tukey HSD, FWER=0.05</caption>\n",
       "<tr>\n",
       "  <th>group1</th>  <th>group2</th> <th>meandiff</th> <th>p-adj</th>  <th>lower</th>  <th>upper</th> <th>reject</th>\n",
       "</tr>\n",
       "<tr>\n",
       "  <td>control</td>  <td>test</td>   <td>12.389</td>  <td>-0.0</td>  <td>12.185</td> <td>12.593</td>  <td>True</td> \n",
       "</tr>\n",
       "</table>"
      ],
      "text/plain": [
       "<class 'statsmodels.iolib.table.SimpleTable'>"
      ]
     },
     "execution_count": 89,
     "metadata": {},
     "output_type": "execute_result"
    }
   ],
   "source": [
    "sm.stats.multicomp.pairwise_tukeyhsd(task_2.events, task_2.group).summary()"
   ]
  },
  {
   "cell_type": "code",
   "execution_count": 95,
   "id": "69999c8f",
   "metadata": {},
   "outputs": [
    {
     "data": {
      "text/html": [
       "<table class=\"simpletable\">\n",
       "<caption>Multiple Comparison of Means - Tukey HSD, FWER=0.05</caption>\n",
       "<tr>\n",
       "  <th>group1</th> <th>group2</th> <th>meandiff</th> <th>p-adj</th>   <th>lower</th>    <th>upper</th>  <th>reject</th>\n",
       "</tr>\n",
       "<tr>\n",
       "   <td>high</td>    <td>low</td>  <td>-38.4259</td> <td>-0.0</td>  <td>-38.5583</td> <td>-38.2935</td>  <td>True</td> \n",
       "</tr>\n",
       "</table>"
      ],
      "text/plain": [
       "<class 'statsmodels.iolib.table.SimpleTable'>"
      ]
     },
     "execution_count": 95,
     "metadata": {},
     "output_type": "execute_result"
    }
   ],
   "source": [
    "sm.stats.multicomp.pairwise_tukeyhsd(task_2.events, task_2.segment).summary()"
   ]
  },
  {
   "cell_type": "markdown",
   "id": "741951e4",
   "metadata": {},
   "source": [
    "* Различий совсем не оказалось :(\n",
    "* Для обоих сегментов показатели статистически значимо _уменьшились_ по сравнению с контрольной группой\n",
    "* Разница между значением у тестовой группы сегмента low и контрольной группой этого же сегмента равна примерно 36\n",
    "* **Разница между значением у тестовой группы сегмента low и контрольной группой этого же сегмента равна примерно 13**\n",
    "* **Разница между control/high и test/high составила около 10**\n",
    "* **Для обоих сегментов показатели статистически значимо _увеличились_ по сравнению с контрольной группой**\n",
    "\n",
    "# Задание 12\n",
    "Визуализируйте результаты теста и заполните пропуски:"
   ]
  },
  {
   "cell_type": "code",
   "execution_count": 100,
   "id": "caca4d2c",
   "metadata": {},
   "outputs": [
    {
     "data": {
      "image/png": "[encoded data removed]",
      "text/plain": [
       "<Figure size 864x576 with 1 Axes>"
      ]
     },
     "metadata": {},
     "output_type": "display_data"
    }
   ],
   "source": [
    "sns.pointplot(x='group' , y='events' , data=task_2, hue='segment')\n",
    "sns.despine()"
   ]
  },
  {
   "cell_type": "code",
   "execution_count": 96,
   "id": "21ba6a88",
   "metadata": {},
   "outputs": [
    {
     "data": {
      "image/png": "[encoded data removed]",
      "text/plain": [
       "<Figure size 864x576 with 1 Axes>"
      ]
     },
     "metadata": {},
     "output_type": "display_data"
    }
   ],
   "source": [
    "sns.pointplot(x='segment' , y='events' , data=task_2, hue='group')\n",
    "sns.despine()"
   ]
  },
  {
   "cell_type": "markdown",
   "id": "0e5e4cb6",
   "metadata": {},
   "source": [
    "Фактор group оказался `ЗНАЧИМЫМ`, фактор segment – `ЗНАЧИМЫМ`, их взаимодействие – `ЗНАЧИМО`. Судя по графику, для всех групп среднее значение events `УВЕЛИЧИЛОСЬ`, поэтому решение: `ВЫКАТЫВАЕМ НОВУЮ ВЕРСИЮ`"
   ]
  }
 ],
 "metadata": {
  "kernelspec": {
   "display_name": "Python 3 (ipykernel)",
   "language": "python",
   "name": "python3"
  },
  "language_info": {
   "codemirror_mode": {
    "name": "ipython",
    "version": 3
   },
   "file_extension": ".py",
   "mimetype": "text/x-python",
   "name": "python",
   "nbconvert_exporter": "python",
   "pygments_lexer": "ipython3",
   "version": "3.9.12"
  }
 },
 "nbformat": 4,
 "nbformat_minor": 5
}
